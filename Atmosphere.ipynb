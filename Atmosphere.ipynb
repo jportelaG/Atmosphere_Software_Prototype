{
 "cells": [
  {
   "cell_type": "markdown",
   "metadata": {},
   "source": [
    "## Software prototype for the Atmosphere project\n",
    "This software prototype was developed as part of the Atmosphere project.  \n",
    "It provides a workflow to analyze the potential utilization of waste heat through district heating in three steps:  \n",
    "1. Cluster the building data into district heating clusters.  \n",
    "2. Run an investment and operational optimization model to determine the optimal decisions.  \n",
    "3. Visualize the results.\n",
    "\n",
    "The following notebook demonstrates the use of its functionalities."
   ]
  },
  {
   "cell_type": "markdown",
   "metadata": {},
   "source": [
    "### Load the required packages \n",
    "The required Python packages for this notebook are loaded here.  \n",
    "In addition, the developed libraries for the Atmosphere project are also loaded.  \n",
    "An environment containing all necessary requirements and configurations is provided within the file `environment.yml`. It is recommended to execute all code within this environment to ensure proper operation."
   ]
  },
  {
   "cell_type": "code",
   "execution_count": null,
   "metadata": {},
   "outputs": [],
   "source": [
    "# import general packages\n",
    "import os\n",
    "import sys\n",
    "\n",
    "# Ensure src is in the Python path\n",
    "sys.path.append(os.path.join(os.getcwd(), \"src\"))\n",
    "\n",
    "# import the Atmosphere libaries\n",
    "from src import data, clustering, model, visualisation, constructive_elements"
   ]
  },
  {
   "cell_type": "code",
   "execution_count": null,
   "metadata": {},
   "outputs": [],
   "source": [
    "# reload clustering \n",
    "import importlib\n",
    "importlib.reload(clustering)"
   ]
  },
  {
   "cell_type": "markdown",
   "metadata": {},
   "source": [
    "### Define a Scenario  \n",
    "\n",
    "To start an analysis, the case study and scenario name must be defined. These are used as follows:  \n",
    "\n",
    "- **Case study**: Defines the region of investigation, e.g., a specific city. Each case study requires an independent building dataset.  \n",
    "- **Scenario**: Within each case study, multiple scenarios can be analyzed. Each scenario uses the same building dataset but with different parameters (e.g., costs, number of clusters, etc.).  \n",
    "\n",
    "If a scenario name does not yet exist, a new folder for that scenario is created using default data. This data can subsequently be modified.  \n",
    "If a scenario folder already exists, it is not overwritten.  \n",
    "\n",
    "Additionally, the general configuration file `_config.yaml` contains the required general configurations.  \n",
    "It is loaded and used in several functions throughout the script.  "
   ]
  },
  {
   "cell_type": "code",
   "execution_count": null,
   "metadata": {},
   "outputs": [],
   "source": [
    "case_study = 'Puertollano'\n",
    "scenario = 'Scenario_demo2'\n",
    "\n",
    "config = data.load_config()\n",
    "data.generate_new_scenario(case_study, scenario, config)"
   ]
  },
  {
   "cell_type": "code",
   "execution_count": null,
   "metadata": {},
   "outputs": [],
   "source": [
    "# import clustering\n",
    "from importlib import reload\n",
    "reload(clustering)"
   ]
  },
  {
   "cell_type": "markdown",
   "metadata": {},
   "source": [
    "### Cluster the Building Data  \n",
    "\n",
    "Before processing the data, several input parameters and datasets can be configured in three files located in the `input` folder of each scenario:  \n",
    "\n",
    "- **Parameters and costs**: These can be set in the file `input_ParameterCosts.xlsx`.  \n",
    "  Note that all investment costs are annualized for one year (assuming one year of data for the optimization model).  \n",
    "\n",
    "- **Heat generation units**: Data and settings for heat generation units can be specified in `input_HeatGenerationUnits.xlsx`.  \n",
    "  - To add a unit, simply add a new row. All fields must be specified, and each unit can only be of one type (either a thermal energy storage, boiler, or waste heat unit).  \n",
    "  - Costs can be set individually for each unit.  \n",
    "  - The location, given in latitude/longitude, also determines the position and routing of the unit in the optimization model.  \n",
    "  - To delete a unit, remove the corresponding row.  \n",
    "\n",
    "- **Waste heat profiles**: These are defined in `input_WasteHeatProfiles.xlsx`.  \n",
    "  - Each waste heat unit defined in `input_HeatGenerationUnits.xlsx` requires a corresponding time series for its waste heat profile.  \n",
    "  - The name of the waste heat unit must match exactly.  \n",
    "  - The profile must have the same temporal resolution and range as the heat demand time series.  \n",
    "\n",
    "Subsequently, the building data is loaded and clustered according to the specified configuration.  \n",
    "Several additional data processing steps are executed to prepare all data for the optimization model.  \n",
    "The processed output data, which will be used by the optimization model, is then stored in the `data` folder.  \n"
   ]
  },
  {
   "cell_type": "code",
   "execution_count": null,
   "metadata": {},
   "outputs": [],
   "source": [
    "# prepare the parameter file for the optimisation model \n",
    "clustering.prepare_parameter_file(case_study, scenario, config)\n",
    "\n",
    "# load cost and parameter data\n",
    "cost_parameter = clustering.load_cost_parameter(case_study, scenario, config)\n",
    "\n",
    "# load the input data\n",
    "buildings = clustering.read_geo_data_from_disk(case_study, config)\n",
    "buildings_TS = clustering.read_building_TS_from_disk(case_study, config)\n",
    "generation_units = clustering.read_heatGenUnits_from_disk(case_study, scenario, config)\n",
    "waste_heat_profiles = clustering.read_wasteHeatProfiles_from_disk(generation_units, case_study, scenario, config)\n",
    "\n",
    "# cluster the buildings\n",
    "clustering.get_centroids(buildings)\n",
    "building_cluster = clustering.cluster_buildings(buildings, cost_parameter)\n",
    "\n",
    "# cluster the heat demand time series \n",
    "clustered_TS = clustering.cluster_heat_demand(building_cluster, buildings_TS)\n",
    "\n",
    "# add hot water demand to the clustered time series\n",
    "clustered_TS = clustering.add_hot_water_demand(building_cluster, clustered_TS, cost_parameter)\n",
    "\n",
    "# merge clusters with generion units\n",
    "all_heat_nodes = clustering.merge_heatGenUnits(building_cluster, generation_units)\n",
    "\n"
   ]
  },
  {
   "cell_type": "code",
   "execution_count": null,
   "metadata": {},
   "outputs": [],
   "source": [
    "# create a network\n",
    "network = clustering.propose_network(all_heat_nodes)\n",
    "\n",
    "# save the data to the scenario folder for the optimisation model\n",
    "clustering.save_data(all_heat_nodes,clustered_TS,network,generation_units,waste_heat_profiles, case_study, scenario, config)"
   ]
  },
  {
   "cell_type": "code",
   "execution_count": null,
   "metadata": {},
   "outputs": [],
   "source": [
    "buildings_TS.columns"
   ]
  },
  {
   "cell_type": "code",
   "execution_count": null,
   "metadata": {},
   "outputs": [],
   "source": [
    "buildings_TS.columns[1:].to_list()"
   ]
  },
  {
   "cell_type": "code",
   "execution_count": null,
   "metadata": {},
   "outputs": [],
   "source": [
    "buildings_TS['building_1000'].plot()\n",
    "\n",
    "#"
   ]
  },
  {
   "cell_type": "code",
   "execution_count": null,
   "metadata": {},
   "outputs": [],
   "source": [
    "# visualisation of data\n",
    "# If you want the visualise data in between to check the clustering or input data, you can use the explore function. \n",
    "# Here we plot the yearly demand of the buildings in the scenario.\n",
    "buildings.explore('YearlyDemand', width=800, height=400, cmap='coolwarm')\n",
    "# To explote different data you can change the first argument of the explore function."
   ]
  },
  {
   "cell_type": "code",
   "execution_count": null,
   "metadata": {},
   "outputs": [],
   "source": [
    "building_cluster.explore('YearlyDemand', width=800, height=400, cmap='coolwarm',marker_kwds={'radius': 10} )"
   ]
  },
  {
   "cell_type": "code",
   "execution_count": null,
   "metadata": {},
   "outputs": [],
   "source": [
    "# plot building clusters but not the point, but the convex hull\n",
    "building_cluster"
   ]
  },
  {
   "cell_type": "code",
   "execution_count": null,
   "metadata": {},
   "outputs": [],
   "source": [
    "waste_heat_profiles.plot(x='hour', y='Electrolyser', title='Electrolyser Waste Heat Profile')"
   ]
  },
  {
   "cell_type": "code",
   "execution_count": null,
   "metadata": {},
   "outputs": [],
   "source": [
    "clustered_TS.plot(x='hour', title='Clustered Heat Demand Profile', legend=False)"
   ]
  },
  {
   "cell_type": "code",
   "execution_count": null,
   "metadata": {},
   "outputs": [],
   "source": [
    "network.plot()"
   ]
  },
  {
   "cell_type": "code",
   "execution_count": null,
   "metadata": {},
   "outputs": [],
   "source": [
    "all_heat_nodes.explore('YearlyDemand', width=800, height=400, cmap='coolwarm',marker_kwds={'radius': 10} )"
   ]
  },
  {
   "cell_type": "markdown",
   "metadata": {},
   "source": [
    "### Run the Optimization Model  \n",
    "\n",
    "The optimization module loads the data, builds the model, solves it, and exports all the results to the `output` folder. Some ex-post calculations are done immediately and saved in the `ex-post` folder.  \n",
    "The solver can be configured; more details can be found in the general description.  \n",
    "\n",
    "The model itself is implemented as a mixed-integer linear program. Heat energy flow is modeled as a transportation problem between sources and heat demand nodes. The model aims to cover the entire heat demand while minimizing the total costs. Each building has its own heating system (existing system), and buildings may be connected to a district heating grid for defined investment costs.\n"
   ]
  },
  {
   "cell_type": "code",
   "execution_count": null,
   "metadata": {},
   "outputs": [],
   "source": [
    "# reload the model.py file\n",
    "from importlib import reload\n",
    "reload(model)\n"
   ]
  },
  {
   "cell_type": "code",
   "execution_count": null,
   "metadata": {},
   "outputs": [],
   "source": [
    "# run the combined optimisation model\n",
    "model.run_model(case_study, scenario, config)\n"
   ]
  },
  {
   "cell_type": "code",
   "execution_count": null,
   "metadata": {},
   "outputs": [],
   "source": [
    "model_input_data"
   ]
  },
  {
   "cell_type": "markdown",
   "metadata": {},
   "source": [
    "### Results and visualisation\n",
    "Key performance indicators, such as investment decisions and total cost shares, are calculated and can be accessed directly in the `expost` folder.  \n",
    "For better representation, the results can be visualized, and some charts can be generated automatically. These are presented in the following section.  \n",
    "All generated plots are automatically stored in the `plots` folder.  \n"
   ]
  },
  {
   "cell_type": "code",
   "execution_count": null,
   "metadata": {},
   "outputs": [],
   "source": [
    "# read the model output\n",
    "model_output_data = data.read_output_from_disk(case_study, scenario, config)\n",
    "# read input data from the model\n",
    "model_input_data = data.load_data_from_disk(case_study, scenario, config)\n",
    "\n",
    "# extract the nodes and shapes from the model input data\n",
    "dict_nodes = visualisation.extract_node_centroids(model_input_data)\n",
    "dict_shapes = visualisation.extract_node_shapes(model_input_data)\n",
    "\n",
    "# define the figure path\n",
    "figure_path = os.path.join(case_study, config['scenario_dir'], scenario, config['plot_dir'])\n",
    "\n",
    "# plot the investment decitions\n",
    "visualisation.plot_investment_decisions(model_input_data, model_output_data, dict_nodes, dict_shapes, figure_path)\n",
    "\n",
    "# plot the energy balance\n",
    "visualisation.plot_energy_balance(visualisation.merge_time_series(model_input_data, model_output_data), figure_path)\n",
    "\n",
    "# plot the time resolved energy balance; the time_inverall specifies the time resolution of the plot. \n",
    "# For example, 'h' for hourly, 'd' for daily, 'W' for weekly, 'M' for monthly, 'Y' for yearly.\n",
    "visualisation.plot_time_resolved(visualisation.merge_time_series(model_input_data, model_output_data), figure_path, time_invervall='W')"
   ]
  },
  {
   "cell_type": "code",
   "execution_count": null,
   "metadata": {},
   "outputs": [],
   "source": [
    "model_output_data"
   ]
  },
  {
   "cell_type": "markdown",
   "metadata": {},
   "source": [
    "### Constructive elements"
   ]
  },
  {
   "cell_type": "code",
   "execution_count": null,
   "metadata": {},
   "outputs": [],
   "source": [
    "# plot the investment decitions\n",
    "gdf_BuildPipe = visualisation.plot_investment_decisions(model_input_data, model_output_data, dict_nodes, dict_shapes, figure_path)\n"
   ]
  },
  {
   "cell_type": "code",
   "execution_count": null,
   "metadata": {},
   "outputs": [],
   "source": [
    "gdf_BuildPipe"
   ]
  },
  {
   "cell_type": "code",
   "execution_count": null,
   "metadata": {},
   "outputs": [],
   "source": [
    "# Set the CRS if not already set (replace 25830 with your actual CRS if different)\n",
    "#gdf_BuildPipe = gdf_BuildPipe.set_crs(epsg=25830, inplace=False)\n",
    "\n",
    "gdf_BuildPipe_wgs84 = gdf_BuildPipe.set_crs(epsg=4326)\n",
    "\n",
    "gdf_BuildPipe_wgs84.explore(\n",
    "    'mass_flow',  # Optional: color lines by 'mass_flow'\n",
    "    cmap='coolwarm',     # Choose colormap\n",
    "    legend=True,         # Add a legend\n",
    "    #tooltip=['node_from', 'node_to', 'mass_flow'],  # Show info on hover\n",
    "    style_kwds={'weight': 4},  # Line thickness\n",
    "    #tiles='OpenStreetMap', \n",
    "    height=500,\n",
    "    width=800\n",
    ")\n"
   ]
  },
  {
   "cell_type": "code",
   "execution_count": null,
   "metadata": {},
   "outputs": [],
   "source": [
    "# Calculate the total length of built pipes\n",
    "gdf_built_pipes = constructive_elements.total_length_of_built_pipes(gdf_BuildPipe)\n",
    "\n",
    "print(gdf_built_pipes[['node_from', 'node_to', 'mass_flow', 'length_m']])\n",
    "\n",
    "total_length_m = gdf_built_pipes['length_m'].sum()\n",
    "print(f\"Total length of built pipes: {total_length_m:.2f} meters\")"
   ]
  },
  {
   "cell_type": "code",
   "execution_count": null,
   "metadata": {},
   "outputs": [],
   "source": [
    "# Calculate the constructive elements of the built pipes\n",
    "gdf_built_pipes_built = constructive_elements.design_pump_and_pipe(gdf_built_pipes)\n",
    "print(gdf_built_pipes_built[['node_from', 'node_to', 'mass_flow', 'length_m', 'D_mm', 'ΔP_bar', 'Pump_electric_W']])"
   ]
  },
  {
   "cell_type": "code",
   "execution_count": null,
   "metadata": {},
   "outputs": [],
   "source": [
    "# create rounded values for the diameter DN 100, 200,400 , 800, 1000\n",
    "def round_to_nearest_dn(diameter_mm):\n",
    "    dn_values = [100, 200, 400, 800, 1000]\n",
    "    return min(dn_values, key=lambda x: abs(x - diameter_mm))\n",
    "\n",
    "# Apply the rounding function to the diameter column\n",
    "gdf_built_pipes_built['DN'] = gdf_built_pipes_built['D_mm'].apply(round_to_nearest_dn)\n",
    "\n",
    "# group by DN, count pipes and sum the lengths\n",
    "grouped = gdf_built_pipes_built.groupby('DN').agg(\n",
    "    pipe_count=('length_m', 'count'),\n",
    "    total_length_m=('length_m', 'sum')\n",
    ").reset_index()\n",
    "grouped"
   ]
  },
  {
   "cell_type": "code",
   "execution_count": null,
   "metadata": {},
   "outputs": [],
   "source": [
    "model_output_data['vDHconnect']"
   ]
  },
  {
   "cell_type": "code",
   "execution_count": null,
   "metadata": {},
   "outputs": [],
   "source": [
    "# access vDHconnect from the model output data\n",
    "model_output_data['vDHconnect'].value.sum()"
   ]
  }
 ],
 "metadata": {
  "kernelspec": {
   "display_name": "Atmosphere_env",
   "language": "python",
   "name": "python3"
  },
  "language_info": {
   "codemirror_mode": {
    "name": "ipython",
    "version": 3
   },
   "file_extension": ".py",
   "mimetype": "text/x-python",
   "name": "python",
   "nbconvert_exporter": "python",
   "pygments_lexer": "ipython3",
   "version": "3.12.2"
  }
 },
 "nbformat": 4,
 "nbformat_minor": 2
}
